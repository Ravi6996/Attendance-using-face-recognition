{
 "cells": [
  {
   "cell_type": "code",
   "execution_count": 2,
   "metadata": {},
   "outputs": [],
   "source": [
    "#Importing Important Libraries\n",
    "import numpy as np\n",
    "import os\n",
    "import face_recognition\n",
    "from datetime import datetime\n",
    "import cv2"
   ]
  },
  {
   "cell_type": "code",
   "execution_count": 3,
   "metadata": {},
   "outputs": [
    {
     "name": "stdout",
     "output_type": "stream",
     "text": [
      "['aabhas.jpg', 'abhay2.jpg', 'aman.jpg', 'Modi.jpg', 'obama.jpg', 'Ravi.jpg', 'sangram.jpg', 'Trump.jpg']\n"
     ]
    }
   ],
   "source": [
    "\n",
    "path='Training_images'\n",
    "images=[]\n",
    "classnames=[]\n",
    "mylist=os.listdir(path)\n",
    "print(mylist)"
   ]
  },
  {
   "cell_type": "code",
   "execution_count": 4,
   "metadata": {},
   "outputs": [
    {
     "name": "stdout",
     "output_type": "stream",
     "text": [
      "['aabhas', 'abhay2', 'aman', 'Modi', 'obama', 'Ravi', 'sangram', 'Trump']\n"
     ]
    }
   ],
   "source": [
    "for cl in mylist:\n",
    "    curImg=cv2.imread(f'{path}/{cl}')\n",
    "    images.append(curImg)\n",
    "    classnames.append(os.path.splitext(cl)[0])\n",
    "print(classnames)"
   ]
  },
  {
   "cell_type": "code",
   "execution_count": 5,
   "metadata": {},
   "outputs": [
    {
     "name": "stdout",
     "output_type": "stream",
     "text": [
      "8\n"
     ]
    }
   ],
   "source": [
    "def findencodings(images):\n",
    "    encodelist=[]\n",
    "    for img in images:\n",
    "        img=cv2.cvtColor(img,cv2.COLOR_BGR2RGB)\n",
    "        encode=face_recognition.face_encodings(img)[0]\n",
    "        encodelist.append(encode)\n",
    "    return encodelist\n",
    "\n",
    "encodelistknown=findencodings(images)\n",
    "print(len(encodelistknown))"
   ]
  },
  {
   "cell_type": "code",
   "execution_count": 6,
   "metadata": {},
   "outputs": [],
   "source": [
    "def markattendance(name):\n",
    "    with open('Attendance.csv','r+') as f:\n",
    "        mydatalist=f.readlines()\n",
    "        namelist=[]\n",
    "        for line in mydatalist:\n",
    "            entry=line.split(',')\n",
    "            namelist.append(entry[0])\n",
    "        if name not in namelist:\n",
    "            now=datetime.now()\n",
    "            dtstring=now.strftime('%H:%M:%S')\n",
    "            f.writelines(f'\\n{name},{dtstring}')\n"
   ]
  },
  {
   "cell_type": "code",
   "execution_count": 7,
   "metadata": {},
   "outputs": [],
   "source": [
    "cap=cv2.VideoCapture(0)\n",
    "\n",
    "while True:\n",
    "    success,img=cap.read()\n",
    "    imgs=cv2.resize(img,(0,0),None,0.25,0.25)\n",
    "    imgs=cv2.cvtColor(imgs,cv2.COLOR_BGR2RGB)\n",
    "\n",
    "    faces_curframe=face_recognition.face_locations(imgs)\n",
    "    encodings_curframe=face_recognition.face_encodings(imgs,faces_curframe)\n",
    "\n",
    "    for encodeface,faceloc in zip(encodings_curframe,faces_curframe):\n",
    "        matches=face_recognition.compare_faces(encodelistknown,encodeface)\n",
    "        facedis=face_recognition.face_distance(encodelistknown,encodeface)\n",
    "\n",
    "        matchindex=np.argmin(facedis)\n",
    "\n",
    "        if matches[matchindex]:\n",
    "            name=classnames[matchindex].upper()\n",
    "            y1,x2,y2,x1=faceloc\n",
    "            y1,x2,y2,x1=y1*4,x2*4,y2*4,x1*4\n",
    "            cv2.rectangle(img,(x1,y1),(x2,y2),(0,255,0),2)\n",
    "            cv2.rectangle(img,(x1,y2-35),(x2,y2),(0,255,0),cv2.FILLED)\n",
    "            cv2.putText(img,name,(x1+6,y2-6),cv2.FONT_HERSHEY_COMPLEX,1,(255,255,255),2)\n",
    "            markattendance(name)\n",
    "\n",
    "    \n",
    "\n",
    "    cv2.imshow('webcam',img)\n",
    "    if cv2.waitKey(1) & 0xFF == ord('q'):\n",
    "        break\n",
    "\n",
    "cap.release()\n",
    "cv2.destroyAllWindows()\n",
    "\n"
   ]
  }
 ],
 "metadata": {
  "kernelspec": {
   "display_name": "base",
   "language": "python",
   "name": "python3"
  },
  "language_info": {
   "codemirror_mode": {
    "name": "ipython",
    "version": 3
   },
   "file_extension": ".py",
   "mimetype": "text/x-python",
   "name": "python",
   "nbconvert_exporter": "python",
   "pygments_lexer": "ipython3",
   "version": "3.9.16"
  },
  "orig_nbformat": 4,
  "vscode": {
   "interpreter": {
    "hash": "a6f4876baed243834739ef0286e82e3427b7687db6589d87b80fa397a1e7865d"
   }
  }
 },
 "nbformat": 4,
 "nbformat_minor": 2
}
